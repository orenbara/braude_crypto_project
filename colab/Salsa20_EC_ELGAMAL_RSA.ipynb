{
  "nbformat": 4,
  "nbformat_minor": 0,
  "metadata": {
    "colab": {
      "provenance": [],
      "collapsed_sections": [
        "4VxwVJtXS-xV"
      ],
      "authorship_tag": "ABX9TyM/uxY0c8SbGelQLwK14gEL",
      "include_colab_link": true
    },
    "kernelspec": {
      "name": "python3",
      "display_name": "Python 3"
    },
    "language_info": {
      "name": "python"
    }
  },
  "cells": [
    {
      "cell_type": "markdown",
      "metadata": {
        "id": "view-in-github",
        "colab_type": "text"
      },
      "source": [
        "<a href=\"https://colab.research.google.com/github/orenbara/braude_crypto_project/blob/master/colab/Salsa20_EC_ELGAMAL_RSA.ipynb\" target=\"_parent\"><img src=\"https://colab.research.google.com/assets/colab-badge.svg\" alt=\"Open In Colab\"/></a>"
      ]
    },
    {
      "cell_type": "markdown",
      "source": [
        "# Pre-run installations"
      ],
      "metadata": {
        "id": "4VxwVJtXS-xV"
      }
    },
    {
      "cell_type": "code",
      "source": [
        "# @title Connect Google Drive\n",
        "mount_path = \"/content/drive\" # @param {type:\"string\"}\n",
        "# Connect to Google Drive\n",
        "from google.colab import drive\n",
        "drive.mount(mount_path)"
      ],
      "metadata": {
        "colab": {
          "base_uri": "https://localhost:8080/"
        },
        "cellView": "form",
        "id": "zhghP_QHTEup",
        "outputId": "9ef19e20-1983-4e5c-9419-218972ee0fae"
      },
      "execution_count": 21,
      "outputs": [
        {
          "output_type": "stream",
          "name": "stdout",
          "text": [
            "Drive already mounted at /content/drive; to attempt to forcibly remount, call drive.mount(\"/content/drive\", force_remount=True).\n"
          ]
        }
      ]
    },
    {
      "cell_type": "code",
      "source": [
        "cd /content/drive/MyDrive/Colab Notebooks/Crypto Course/"
      ],
      "metadata": {
        "colab": {
          "base_uri": "https://localhost:8080/"
        },
        "id": "haTf50niTKwV",
        "outputId": "805ed2f7-4320-4cc4-9282-d1606003f20a"
      },
      "execution_count": 22,
      "outputs": [
        {
          "output_type": "stream",
          "name": "stdout",
          "text": [
            "/content/drive/MyDrive/Colab Notebooks/Crypto Course\n"
          ]
        }
      ]
    },
    {
      "cell_type": "markdown",
      "source": [
        "# Sender Side"
      ],
      "metadata": {
        "id": "soC6GedKQ-7l"
      }
    },
    {
      "cell_type": "code",
      "source": [
        "# @title Imports and definitions\n",
        "import os\n",
        "import struct\n",
        "import random\n",
        "import hashlib\n",
        "# Elliptic curve parameters (using NIST P-256 curve)\n",
        "p = 0xffffffff00000001000000000000000000000000ffffffffffffffffffffffff\n",
        "a = 0xffffffff00000001000000000000000000000000fffffffffffffffffffffffc\n",
        "b = 0x5ac635d8aa3a93e7b3ebbd55769886bc651d06b0cc53b0f63bce3c3e27d2604b\n",
        "Gx = 0x6b17d1f2e12c4247f8bce6e563a440f277037d812deb33a0f4a13945d898c296\n",
        "Gy = 0x4fe342e2fe1a7f9b8ee7eb4a7c0f9e162bce33576b315ececbb6406837bf51f5\n",
        "n = 0xffffffff00000000ffffffffffffffffbce6faada7179e84f3b9cac2fc632551\n"
      ],
      "metadata": {
        "cellView": "form",
        "id": "JzXBQ5WKSJJp"
      },
      "execution_count": 23,
      "outputs": []
    },
    {
      "cell_type": "code",
      "execution_count": 24,
      "metadata": {
        "colab": {
          "base_uri": "https://localhost:8080/"
        },
        "cellView": "form",
        "id": "Q2iYiuQ4Mj_E",
        "outputId": "83151e4c-a41f-4203-d556-3b6608e38779"
      },
      "outputs": [
        {
          "output_type": "stream",
          "name": "stdout",
          "text": [
            "Generating RSA keypair...\n",
            "RSA keypair generated successfully.\n"
          ]
        }
      ],
      "source": [
        "# @title Generate RSA Key Pair\n",
        "\n",
        "def mod_inverse(a, m):\n",
        "    if a == 0:\n",
        "        return 0\n",
        "    lm, hm = 1, 0\n",
        "    low, high = a % m, m\n",
        "    while low > 1:\n",
        "        ratio = high // low\n",
        "        nm, new = hm - lm * ratio, high - low * ratio\n",
        "        lm, low, hm, high = nm, new, lm, low\n",
        "    return lm % m\n",
        "\n",
        "\n",
        "\"\"\"\n",
        "Miller-Rabin primality test, a probabilistic algorithm used to determine whether a given number is prime.\n",
        "\"\"\"\n",
        "def is_prime(n, k=5):\n",
        "    if n < 2:\n",
        "        return False\n",
        "    for p in [2, 3, 5, 7, 11, 13, 17, 19, 23, 29]:\n",
        "        if n % p == 0:\n",
        "            return n == p\n",
        "    s, d = 0, n - 1\n",
        "    while d % 2 == 0:\n",
        "        s, d = s + 1, d // 2\n",
        "    for _ in range(k):\n",
        "        a = random.randrange(2, n - 1)\n",
        "        x = pow(a, d, n)\n",
        "        if x == 1 or x == n - 1:\n",
        "            continue\n",
        "        for _ in range(s - 1):\n",
        "            x = pow(x, 2, n)\n",
        "            if x == n - 1:\n",
        "                break\n",
        "        else:\n",
        "            return False\n",
        "    return True\n",
        "\n",
        "\"\"\"\n",
        "simple function that will generate a prime number based on number of bits\n",
        "\"\"\"\n",
        "def generate_prime(bits):\n",
        "    while True:\n",
        "        p = random.getrandbits(bits)\n",
        "        if is_prime(p):\n",
        "            return p\n",
        "\n",
        "\"\"\"\n",
        "Generates a public and a private keys which together satisfy the modular equation\n",
        "e * d = 1 mod (phi(n))\n",
        "where public key is (n,e) and private key is (n,d)\n",
        "\"\"\"\n",
        "def generate_rsa_keypair(bits=2048):\n",
        "    # Since n = p * q, and p and q are roughly the same size, each prime should be about half the bit length of n.\n",
        "    p = generate_prime(bits // 2)\n",
        "    q = generate_prime(bits // 2)\n",
        "    n = p * q\n",
        "    phi = (p - 1) * (q - 1)\n",
        "    e = 65537\n",
        "    d = mod_inverse(e, phi)\n",
        "    return (n, e), (n, d)\n",
        "\n",
        "\n",
        "print(\"Generating RSA keypair...\")\n",
        "rsa_public_key, rsa_private_key = generate_rsa_keypair()\n",
        "print(\"RSA keypair generated successfully.\")\n"
      ]
    },
    {
      "cell_type": "code",
      "source": [
        "# @title Generate an ECC key pair\n",
        "\n",
        "def mod_inverse(a, m):\n",
        "    if a == 0:\n",
        "        return 0\n",
        "    lm, hm = 1, 0\n",
        "    low, high = a % m, m\n",
        "    while low > 1:\n",
        "        ratio = high // low\n",
        "        nm, new = hm - lm * ratio, high - low * ratio\n",
        "        lm, low, hm, high = nm, new, lm, low\n",
        "    return lm % m\n",
        "\n",
        "def point_add(P1, P2):\n",
        "    if P1 is None:\n",
        "        return P2\n",
        "    if P2 is None:\n",
        "        return P1\n",
        "    if P1[0] == P2[0] and P1[1] != P2[1]:\n",
        "        return None\n",
        "    if P1 == P2:\n",
        "        lam = (3 * P1[0] * P1[0] + a) * mod_inverse(2 * P1[1], p)\n",
        "    else:\n",
        "        lam = (P2[1] - P1[1]) * mod_inverse(P2[0] - P1[0], p)\n",
        "    x3 = (lam * lam - P1[0] - P2[0]) % p\n",
        "    y3 = (lam * (P1[0] - x3) - P1[1]) % p\n",
        "    return (x3, y3)\n",
        "\n",
        "\n",
        "\"\"\"\n",
        "This uses the double-and-add algorithm, an efficient method for scalar multiplication\n",
        "Scalar multiplication involves computing the product of a scalar (integer) k and a point P on an elliptic curve\n",
        "to obtain another point Q on the curve, denoted as Q=kP This operation is analogous to repeated addition in the\n",
        "context of elliptic curves.\n",
        "\"\"\"\n",
        "def scalar_mult(k, P):\n",
        "    Q = None\n",
        "    for i in range(256):\n",
        "        if k & (1 << i):\n",
        "            Q = point_add(Q, P)\n",
        "        P = point_add(P, P)\n",
        "    return Q\n",
        "\n",
        "\n",
        "\"\"\"\n",
        "Generate an ECC key pair\n",
        "\"\"\"\n",
        "def generate_keypair():\n",
        "    # Chooses a random integer as the private key\n",
        "    private_key = random.randint(1, n - 1)\n",
        "\n",
        "    # Computes the public key by multiplying the generator point (Gx, Gy) by the private key.\n",
        "    public_key = scalar_mult(private_key, (Gx, Gy))\n",
        "    return private_key, public_key\n",
        "\n",
        "\n",
        "print(\"Generating EC keypair...\")\n",
        "ec_private_key, ec_public_key = generate_keypair()\n",
        "print(f\"EC private key: {ec_private_key}\")\n",
        "print(f\"EC public key: {ec_public_key}\")\n",
        "print(\"EC keypair generated successfully.\")"
      ],
      "metadata": {
        "colab": {
          "base_uri": "https://localhost:8080/"
        },
        "cellView": "form",
        "id": "xU14pmeWNN2p",
        "outputId": "4471b74b-6e42-498e-aa43-d8ce45547463"
      },
      "execution_count": 25,
      "outputs": [
        {
          "output_type": "stream",
          "name": "stdout",
          "text": [
            "Generating EC keypair...\n",
            "EC private key: 83457324207508227216638540510889016463399203744345636264554733957196249720241\n",
            "EC public key: (24058615692104224531602981659803775712463775818505693915990587731976572846408, 10752262227775125893086188636912150501714532404023915046642728880706600471427)\n",
            "EC keypair generated successfully.\n"
          ]
        }
      ]
    },
    {
      "cell_type": "code",
      "source": [
        "# @title Generate Salsa20 key\n",
        "\n",
        "print(\"Generating SALSA20 key...\")\n",
        "salsa_key = os.urandom(32)\n",
        "print(f\"SALSA20 key: {salsa_key.hex()}\")\n",
        "print(\"SALSA20 key generated successfully.\")"
      ],
      "metadata": {
        "colab": {
          "base_uri": "https://localhost:8080/"
        },
        "cellView": "form",
        "id": "acPmND27Nr3Z",
        "outputId": "7d7dc0e2-377e-496a-a719-8cf510f269a4"
      },
      "execution_count": 26,
      "outputs": [
        {
          "output_type": "stream",
          "name": "stdout",
          "text": [
            "Generating SALSA20 key...\n",
            "SALSA20 key: 3dc428f1fd93591daf415d45611ab51c3c88af7f5f34d67f2e9ef048ab74be8c\n",
            "SALSA20 key generated successfully.\n"
          ]
        }
      ]
    },
    {
      "cell_type": "code",
      "source": [
        "# @title Encrypt Salsa20 Key with EC-Elgamal\n",
        "def point_add(P1, P2):\n",
        "    if P1 is None:\n",
        "        return P2\n",
        "    if P2 is None:\n",
        "        return P1\n",
        "    if P1[0] == P2[0] and P1[1] != P2[1]:\n",
        "        return None\n",
        "    if P1 == P2:\n",
        "        lam = (3 * P1[0] * P1[0] + a) * mod_inverse(2 * P1[1], p)\n",
        "    else:\n",
        "        lam = (P2[1] - P1[1]) * mod_inverse(P2[0] - P1[0], p)\n",
        "    x3 = (lam * lam - P1[0] - P2[0]) % p\n",
        "    y3 = (lam * (P1[0] - x3) - P1[1]) % p\n",
        "    return (x3, y3)\n",
        "\n",
        "\"\"\"\n",
        "This uses the double-and-add algorithm, an efficient method for scalar multiplication\n",
        "Scalar multiplication involves computing the product of a scalar (integer) k and a point P on an elliptic curve\n",
        "to obtain another point Q on the curve, denoted as Q=kP This operation is analogous to repeated addition in the\n",
        "context of elliptic curves.\n",
        "\"\"\"\n",
        "def scalar_mult(k, P):\n",
        "    Q = None\n",
        "    for i in range(256):\n",
        "        if k & (1 << i):\n",
        "            Q = point_add(Q, P)\n",
        "        P = point_add(P, P)\n",
        "    return Q\n",
        "\n",
        "\n",
        "\n",
        "\"\"\"\n",
        "Encrypt a message (in this case, the SALSA20 key) using ECC El-Gamal encryption\n",
        "\"\"\"\n",
        "def encrypt_key(public_key, plaintext):\n",
        "    # Chooses a random k for this encryption.\n",
        "    k = random.randint(1, n - 1)\n",
        "    C1 = scalar_mult(k, (Gx, Gy))\n",
        "    S = scalar_mult(k, public_key)\n",
        "    C2 = (plaintext * S[0]) % p\n",
        "    return (C1, C2)\n",
        "\n",
        "\n",
        "print(\"Encrypting SALSA20 key with EC El-Gamal...\")\n",
        "encrypted_key = encrypt_key(ec_public_key, int.from_bytes(salsa_key, 'big'))\n",
        "print(f\"Encrypted key: {encrypted_key}\")\n",
        "print(\"SALSA20 key encrypted successfully.\")"
      ],
      "metadata": {
        "colab": {
          "base_uri": "https://localhost:8080/"
        },
        "cellView": "form",
        "id": "oNws_ddENx5n",
        "outputId": "850c515a-7e88-4dec-e173-dea9fe492e0c"
      },
      "execution_count": 27,
      "outputs": [
        {
          "output_type": "stream",
          "name": "stdout",
          "text": [
            "Encrypting SALSA20 key with EC El-Gamal...\n",
            "Encrypted key: ((38726271288457331098030453662435535331255936851490323255812499400869760638734, 16973498864417693547636103216548996059411422914589199023320990725470600386508), 66202916957528646828573328501534199698719535913990585878234073917140344870498)\n",
            "SALSA20 key encrypted successfully.\n"
          ]
        }
      ]
    },
    {
      "cell_type": "code",
      "source": [
        "# @title Signing The Encrypted Key With RSA\n",
        "\"\"\"\n",
        "Create a digital signature for a message using the RSA private key.\n",
        "\"\"\"\n",
        "def rsa_sign(private_key, message):\n",
        "    n, d = private_key\n",
        "\n",
        "    # Hash the message using SHA-1 - we get the MD1 (Message Digest)\n",
        "    # hash function has many benefits like fix sized, improved security, but it is not mandatory\n",
        "    hash_object = hashlib.sha1(message)\n",
        "    hashed_message = hash_object.digest()\n",
        "\n",
        "    # Convert the hashed message from bytes to an integer - so we could do math\n",
        "    message_int = int.from_bytes(hashed_message, 'big')\n",
        "\n",
        "    # Compute the signature as message^d mod n (pow does modulo when provided with 3 params) - this is the encryption\n",
        "    signature = pow(message_int, d, n)\n",
        "\n",
        "    # Return the signature as bytes (playing with the numbers to make sure there is no overflow)\n",
        "    return signature.to_bytes((signature.bit_length() + 7) // 8, 'big')\n",
        "\n",
        "\n",
        "\n",
        "print(\"Signing the encrypted key with RSA...\")\n",
        "signature = rsa_sign(rsa_private_key, str(encrypted_key).encode())\n",
        "print(f\"Signature: {signature.hex()}\")\n",
        "print(\"Signature created successfully.\")"
      ],
      "metadata": {
        "colab": {
          "base_uri": "https://localhost:8080/"
        },
        "cellView": "form",
        "id": "-pApZPxWObaS",
        "outputId": "fe357862-3e11-4045-85f2-43fe20646f85"
      },
      "execution_count": 28,
      "outputs": [
        {
          "output_type": "stream",
          "name": "stdout",
          "text": [
            "Signing the encrypted key with RSA...\n",
            "Signature: 0d2986cbf6d8b6324c828aed969de87e4e20f8e8a5526576747c4c70b895ce512eddeefb7a257628f5834192c9946efa6473147881dc47a57049b7897544b8ff04956bbeaa3c998a63840e6b566689b0f522d348e2031d400bea7b7df7920cc3d736dafafb10f613af606073258cf8ae95d4308dad8843f51dc94672731b003ed0613fcdf552484d45283bfc6043f2b8b87e36c83998a4f83e1d3bb2dd971cbc2fca5d4b8fa8d7c64472bf76f20e0d73f50776564cb075e290e132d03db6c36cac795a2bdf5de27ed0af1b981109157a1a027104a490befa60f2d8220f01e3386296351e356e95d1b865c3b8eed3ab9a0c9162e1ace5191afc11b0c81b620a28\n",
            "Signature created successfully.\n"
          ]
        }
      ]
    },
    {
      "cell_type": "code",
      "source": [
        "# @title Encrypt File With Salsa20\n",
        "\n",
        "import struct\n",
        "import os\n",
        "\n",
        "# Constants for SALSA20\n",
        "ROUNDS = 20\n",
        "\n",
        "\n",
        "def rotl32(v, c):\n",
        "    return ((v << c) & 0xffffffff) | (v >> (32 - c))\n",
        "\n",
        "\n",
        "def quarter_round(a, b, c, d):\n",
        "    b ^= rotl32(a + d, 7)\n",
        "    c ^= rotl32(b + a, 9)\n",
        "    d ^= rotl32(c + b, 13)\n",
        "    a ^= rotl32(d + c, 18)\n",
        "    return a, b, c, d\n",
        "\n",
        "\n",
        "def salsa20_block(input_block):\n",
        "    # Pad the input to 64 bytes if necessary\n",
        "    input_block = input_block.ljust(64, b'\\x00')\n",
        "\n",
        "    # convert the 64-byte input block into a list of sixteen 32-bit integers\n",
        "    x = list(struct.unpack('<16I', input_block))\n",
        "    orig_x = x[:]\n",
        "\n",
        "    for _ in range(ROUNDS):\n",
        "        # Column rounds\n",
        "        x[0], x[4], x[8], x[12] = quarter_round(x[0], x[4], x[8], x[12])\n",
        "        x[5], x[9], x[13], x[1] = quarter_round(x[5], x[9], x[13], x[1])\n",
        "        x[10], x[14], x[2], x[6] = quarter_round(x[10], x[14], x[2], x[6])\n",
        "        x[15], x[3], x[7], x[11] = quarter_round(x[15], x[3], x[7], x[11])\n",
        "\n",
        "        # Diagonal rounds\n",
        "        x[0], x[1], x[2], x[3] = quarter_round(x[0], x[1], x[2], x[3])\n",
        "        x[5], x[6], x[7], x[4] = quarter_round(x[5], x[6], x[7], x[4])\n",
        "        x[10], x[11], x[8], x[9] = quarter_round(x[10], x[11], x[8], x[9])\n",
        "        x[15], x[12], x[13], x[14] = quarter_round(x[15], x[12], x[13], x[14])\n",
        "\n",
        "    # Adding the original input to the transformed block at the end of salsa20_block ensures that the algorithm is\n",
        "    # reversible (i.e., it can be decrypted)\n",
        "    for i in range(16):\n",
        "        x[i] = (x[i] + orig_x[i]) & 0xffffffff\n",
        "\n",
        "    return struct.pack('<16I', *x)\n",
        "\n",
        "\n",
        "def salsa20_encrypt(key, nonce, plaintext):\n",
        "    if len(key) != 32 or len(nonce) != 8:\n",
        "        raise ValueError(\"Key must be 32 bytes and nonce must be 8 bytes\")\n",
        "\n",
        "    keystream = b''\n",
        "    counter = 0\n",
        "    while len(keystream) < len(plaintext):\n",
        "        # Converts the integer counter into an 8-byte binary string (in little-endian format)\n",
        "        counter_bytes = struct.pack('<Q', counter)\n",
        "\n",
        "        block = key[:16] + nonce + counter_bytes + key[16:]\n",
        "        keystream += salsa20_block(block)\n",
        "        counter += 1\n",
        "    # XORs the plaintext with the keystream to produce the ciphertext\n",
        "    return bytes(a ^ b for a, b in zip(plaintext, keystream))\n",
        "\n",
        "\n",
        "# OFB mode implementation\n",
        "def ofb_mode_encrypt(key, iv, plaintext):\n",
        "    block_size = 64\n",
        "    # Splits the plaintext into blocks of block_size\n",
        "    blocks = [plaintext[i:i + block_size] for i in range(0, len(plaintext), block_size)]\n",
        "    ciphertext = b''\n",
        "    previous_block = iv\n",
        "\n",
        "    for block in blocks:\n",
        "        keystream = salsa20_encrypt(key, previous_block[:8], b'\\x00' * block_size)[:len(block)]\n",
        "        cipher_block = bytes(a ^ b for a, b in zip(block, keystream))\n",
        "        ciphertext += cipher_block\n",
        "        previous_block = keystream[:8]  # Use the first 8 bytes as the next IV\n",
        "\n",
        "    return ciphertext\n",
        "\n",
        "\n",
        "# File encryption and decryption functions\n",
        "def encrypt_file(input_file, output_file, key):\n",
        "    iv = os.urandom(8)\n",
        "    with open(input_file, 'rb') as f_in, open(output_file, 'wb') as f_out:\n",
        "        plaintext = f_in.read()\n",
        "        ciphertext = ofb_mode_encrypt(key, iv, plaintext)\n",
        "        f_out.write(iv + ciphertext)\n",
        "\n",
        "\n",
        "print(\"Encrypting file...\")\n",
        "input_file = 'input.txt'\n",
        "if not os.path.exists(input_file):\n",
        "    print(f\"'{input_file}' not found. Creating a test file.\")\n",
        "    with open(input_file, 'w') as f:\n",
        "        f.write(\"This is a test file for encryption and decryption.\")\n",
        "\n",
        "encrypt_file(input_file, 'encrypted.bin', salsa_key)\n",
        "print(\"File encrypted successfully.\")"
      ],
      "metadata": {
        "colab": {
          "base_uri": "https://localhost:8080/"
        },
        "cellView": "form",
        "id": "PrR473p7PyEd",
        "outputId": "9e8c4433-7063-4c89-ca78-b83816631c13"
      },
      "execution_count": 29,
      "outputs": [
        {
          "output_type": "stream",
          "name": "stdout",
          "text": [
            "Encrypting file...\n",
            "'input.txt' not found. Creating a test file.\n",
            "File encrypted successfully.\n"
          ]
        }
      ]
    },
    {
      "cell_type": "markdown",
      "source": [],
      "metadata": {
        "id": "s6ccrXQ4S8uC"
      }
    },
    {
      "cell_type": "markdown",
      "source": [
        "# Reciver Side"
      ],
      "metadata": {
        "id": "oAhbZe2-Q56o"
      }
    },
    {
      "cell_type": "code",
      "source": [
        "\"\"\"\n",
        "Verify an RSA signature using the public key.\n",
        "\"\"\"\n",
        "def rsa_verify(public_key, message, signature):\n",
        "    n, e = public_key\n",
        "\n",
        "    # Hash the message using SHA-1 - same as in the signing, the receiver want's the same MD\n",
        "    hash_object = hashlib.sha1(message)\n",
        "    hashed_message = hash_object.digest()\n",
        "\n",
        "    # Convert the hashed message and signature to integers\n",
        "    message_int = int.from_bytes(hashed_message, 'big')\n",
        "    signature_int = int.from_bytes(signature, 'big')\n",
        "\n",
        "    # Compute signature^e mod n - this is the decryption part\n",
        "    decrypted = pow(signature_int, e, n)\n",
        "\n",
        "    # Check if the result matches the hashed message, if the private key which the sender used, and the publickey\n",
        "    # which the receiver uses match then using the SHA1 on the same message will result it\n",
        "    return decrypted == message_int\n",
        "\n",
        "\n",
        "print(\"\\nSimulating receiver's side:\")\n",
        "print(\"Verifying signature...\")\n",
        "if rsa_verify(rsa_public_key, str(encrypted_key).encode(), signature):\n",
        "  print(\"Signature verified successfully\")\n",
        "else:\n",
        "  print(f\"An error occurred\")"
      ],
      "metadata": {
        "colab": {
          "base_uri": "https://localhost:8080/"
        },
        "id": "TaALBxmbQoCI",
        "outputId": "7b1b26bf-7ba6-44d5-c7a9-6a6edefbebb4"
      },
      "execution_count": 30,
      "outputs": [
        {
          "output_type": "stream",
          "name": "stdout",
          "text": [
            "\n",
            "Simulating receiver's side:\n",
            "Verifying signature...\n",
            "Signature verified successfully\n"
          ]
        }
      ]
    },
    {
      "cell_type": "code",
      "source": [
        "# @title Decrypting With Salsa20\n",
        "def salsa20_decrypt(key, nonce, ciphertext):\n",
        "    return salsa20_encrypt(key, nonce, ciphertext)  # Encryption and decryption are the same in OFB mode\n",
        "\n",
        "\n",
        "# OFB mode implementation\n",
        "def ofb_mode_encrypt(key, iv, plaintext):\n",
        "    block_size = 64\n",
        "    # Splits the plaintext into blocks of block_size\n",
        "    blocks = [plaintext[i:i + block_size] for i in range(0, len(plaintext), block_size)]\n",
        "    ciphertext = b''\n",
        "    previous_block = iv\n",
        "\n",
        "    for block in blocks:\n",
        "        keystream = salsa20_encrypt(key, previous_block[:8], b'\\x00' * block_size)[:len(block)]\n",
        "        cipher_block = bytes(a ^ b for a, b in zip(block, keystream))\n",
        "        ciphertext += cipher_block\n",
        "        previous_block = keystream[:8]  # Use the first 8 bytes as the next IV\n",
        "\n",
        "    return ciphertext\n",
        "\n",
        "\n",
        "def ofb_mode_decrypt(key, iv, ciphertext):\n",
        "    return ofb_mode_encrypt(key, iv, ciphertext)  # Decryption is the same as encryption in OFB mode\n",
        "\n",
        "\n",
        "def decrypt_file(input_file, output_file, key):\n",
        "    with open(input_file, 'rb') as f_in, open(output_file, 'wb') as f_out:\n",
        "        iv = f_in.read(8)\n",
        "        ciphertext = f_in.read()\n",
        "        plaintext = ofb_mode_decrypt(key, iv, ciphertext)\n",
        "        f_out.write(plaintext)\n",
        "\n",
        "def mod_inverse(a, m):\n",
        "    if a == 0:\n",
        "        return 0\n",
        "    lm, hm = 1, 0\n",
        "    low, high = a % m, m\n",
        "    while low > 1:\n",
        "        ratio = high // low\n",
        "        nm, new = hm - lm * ratio, high - low * ratio\n",
        "        lm, low, hm, high = nm, new, lm, low\n",
        "    return lm % m\n",
        "\n",
        "def is_on_curve(point):\n",
        "    if point is None:\n",
        "        return True\n",
        "    x, y = point\n",
        "    return (y * y - x * x * x - a * x - b) % p == 0\n",
        "\n",
        "def point_add(P1, P2):\n",
        "    if P1 is None:\n",
        "        return P2\n",
        "    if P2 is None:\n",
        "        return P1\n",
        "    if P1[0] == P2[0] and P1[1] != P2[1]:\n",
        "        return None\n",
        "    if P1 == P2:\n",
        "        lam = (3 * P1[0] * P1[0] + a) * mod_inverse(2 * P1[1], p)\n",
        "    else:\n",
        "        lam = (P2[1] - P1[1]) * mod_inverse(P2[0] - P1[0], p)\n",
        "    x3 = (lam * lam - P1[0] - P2[0]) % p\n",
        "    y3 = (lam * (P1[0] - x3) - P1[1]) % p\n",
        "    return (x3, y3)\n",
        "\n",
        "\n",
        "\"\"\"\n",
        "This uses the double-and-add algorithm, an efficient method for scalar multiplication\n",
        "Scalar multiplication involves computing the product of a scalar (integer) k and a point P on an elliptic curve\n",
        "to obtain another point Q on the curve, denoted as Q=kP This operation is analogous to repeated addition in the\n",
        "context of elliptic curves.\n",
        "\"\"\"\n",
        "def scalar_mult(k, P):\n",
        "    Q = None\n",
        "    for i in range(256):\n",
        "        if k & (1 << i):\n",
        "            Q = point_add(Q, P)\n",
        "        P = point_add(P, P)\n",
        "    return Q\n",
        "\n",
        "\n",
        "def decrypt_key(private_key, ciphertext):\n",
        "    C1, C2 = ciphertext\n",
        "    S = scalar_mult(private_key, C1)\n",
        "    plaintext = (C2 * mod_inverse(S[0], p)) % p\n",
        "    return plaintext\n",
        "\n",
        "\n",
        "print(\"Decrypting SALSA20 key...\")\n",
        "decrypted_key = decrypt_key(ec_private_key, encrypted_key)\n",
        "recovered_salsa_key = decrypted_key.to_bytes(32, 'big')\n",
        "print(\"SALSA20 key decrypted successfully.\")\n",
        "\n",
        "print(\"Decrypting file...\")\n",
        "decrypt_file('encrypted.bin', 'decrypted.txt', recovered_salsa_key)\n",
        "print(\"File decrypted successfully\")\n",
        "\n",
        "\n",
        "# Verify the decrypted content\n",
        "with open(input_file, 'r') as f_in, open('decrypted.txt', 'r') as f_out:\n",
        "    original = f_in.read()\n",
        "    decrypted = f_out.read()\n",
        "    if original == decrypted:\n",
        "        print(\"Decryption successful: original and decrypted files match.\")\n",
        "    else:\n",
        "        print(\"Decryption failed: original and decrypted files do not match.\")"
      ],
      "metadata": {
        "colab": {
          "base_uri": "https://localhost:8080/"
        },
        "cellView": "form",
        "id": "XgDqSKK2RF-z",
        "outputId": "f694d782-c688-4a31-aab0-bcf5834c437e"
      },
      "execution_count": 31,
      "outputs": [
        {
          "output_type": "stream",
          "name": "stdout",
          "text": [
            "Decrypting SALSA20 key...\n",
            "SALSA20 key decrypted successfully.\n",
            "Decrypting file...\n",
            "File decrypted successfully\n",
            "Decryption successful: original and decrypted files match.\n"
          ]
        }
      ]
    }
  ]
}